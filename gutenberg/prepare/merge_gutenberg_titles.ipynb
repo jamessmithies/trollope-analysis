{
 "cells": [
  {
   "cell_type": "code",
   "execution_count": 1,
   "metadata": {},
   "outputs": [
    {
     "name": "stdout",
     "output_type": "stream",
     "text": [
      "Size on disk: 41.14 MB\n",
      "Word count: 7,965,030\n",
      "Line count: 859,962\n",
      "Title count: 67\n",
      "Titles: [HOUSEOFHEINEBROTHERSINMUNICH], [GEORGEWALKERATSUEZ], [THEMANWHOKEPTHISMONEYINABOX], [DOCTORTHORNE], [THECHURCHOFENGLAND], [SIRHARRYHOTSPUROFHUMBLETHWAITE], [ARIDEACROSSPALESTINE], [LINDATRESSEL], [ORLEYFARM], [BARCHESTERTOWERS], [CASTLERICHMOND], [FRAMLEYPARSONAGE], [LORDPALMERSTON], [STRUGGLESOFBROWNJONESANDROBINSON], [THELASTCHRONICLEOFBARSET], [THELANDLEAGUERS], [WHYFRAUFROHMANNRAISEDHERPRICES], [ANUNPROTECTEDFEMALEATTHEPYRAMIDS], [THEMISTLETOEBOUGH], [HARRYHEATHCOTEOFGANGOIL], [HUNTINGSKETCHES], [THECLAVERINGS], [PHINEASFINN], [TALESOFALLCOUNTRIES], [JOHNCALDIGATE], [THEBELTONESTATE], [KEPTINTHEDARK], [LAMEREBAUCHE], [AARONTROW], [JOHNBULLONTHEGUADALQUIVIR], [THEWAYWELIVENOW], [COUSINHENRY], [ANOLDMAN'SLOVE], [THEO'CONORSOFCASTLECONOR], [THEEUSTACEDIAMONDS], [THETHREECLERKS], [THEAMERICANSENATOR], [LADYANNA], [THEWARDEN], [AYALA'SANGEL], [THESMALLHOUSEATALLINGTON], [ANEYEFORANEYE], [RALPHTHEHEIR], [MARIONFAY], [THEKELLYSANDTHEO'KELLYS], [HEKNEWHEWASRIGHT], [TRAVELLINGSKETCHES], [THEPARSON'SDAUGHTEROFOXNEY], [CHRISTMASATTHOMPSONHAL], [LAVENDEE], [MISSMACKENZIE], [CANYOUFORGIVEHER], [THECHATEAUOFPRINCEPOLIGNAC], [RETURNINGHOME], [THECOURTSHIPOFSUSANBELL], [MISSSARAHJACKOFSPANISHTOWN], [RACHELRAY], [THEDUKE'SCHILDREN], [THEPRIMEMINISTER], [NINABALATKA], [THEFIXEDPERIOD], [THEGOLDENLIONOFGRANPERE], [PHINEASREDUX], [THEMACDERMOTSOFBALLYCLORAN], [THEVICAROFBULLHAMPTON], [THACKERAY], [THEBERTRAMS]\n"
     ]
    }
   ],
   "source": [
    "import os, re\n",
    "import shutil\n",
    "\n",
    "# Set the input directory and name / location of the output file.\n",
    "input_directory = '../sources/gutenberg_source_files'\n",
    "output_file = '../sources/merged_gutenberg_source_files.txt'\n",
    "\n",
    "# Copy the contents of each file to a single file, adding the title in square brackets before the content and removing the file format.\n",
    "def copy_files_to_one(directory, output_file):\n",
    "    output_filename = os.path.basename(output_file)\n",
    "    try:\n",
    "        with open(output_file, 'w') as outfile:\n",
    "            for filename in os.listdir(directory):\n",
    "                if filename != output_filename:\n",
    "                    try:\n",
    "                        with open(os.path.join(directory, filename), 'r') as readfile:\n",
    "                            # Remove the file extension from the filename\n",
    "                            clean_filename = os.path.splitext(filename)[0]\n",
    "                            outfile.write(f'[{clean_filename}]\\n')\n",
    "                            shutil.copyfileobj(readfile, outfile)\n",
    "                            outfile.write('\\n')\n",
    "                    except Exception as e:\n",
    "                        print(f\"Failed to copy {filename}: {str(e)}\")\n",
    "    except Exception as e:\n",
    "        print(f\"Failed to open output file: {str(e)}\")\n",
    "\n",
    "copy_files_to_one(input_directory, output_file)\n",
    "\n",
    "# Print the size on disk, word count, line count, and title count of the file.\n",
    "def print_file_info(file_path):\n",
    "    # Get size on disk\n",
    "    size_on_disk = os.path.getsize(file_path)\n",
    "    size_on_disk_mb = round(size_on_disk / (1024 * 1024), 2)\n",
    "    print(f\"Size on disk: {size_on_disk_mb} MB\")\n",
    "\n",
    "    # Initialize counters\n",
    "    word_count = 0\n",
    "    line_count = 0\n",
    "    title_count = 0\n",
    "\n",
    "    # Initialize list for titles\n",
    "    title_list = []\n",
    "\n",
    "    # Open file and count words, lines, and titles\n",
    "    with open(file_path, 'r') as f:\n",
    "        for line in f:\n",
    "            line_count += 1\n",
    "            words = line.split()\n",
    "            word_count += len(words)\n",
    "\n",
    "            # Count titles (strings in format [ALL CAPS] allowing for ')\n",
    "            title_pattern = r'\\[[A-Z\\']+\\]'\n",
    "            titles = re.findall(title_pattern, line)\n",
    "            title_count += len(titles)\n",
    "\n",
    "            # Add titles to list\n",
    "            title_list.extend(titles)\n",
    "\n",
    "    # Print results\n",
    "    print(f\"Word count: {word_count:,}\")\n",
    "    print(f\"Line count: {line_count:,}\")\n",
    "    print(f\"Title count: {title_count:,}\")\n",
    "    \n",
    "    # Print titles\n",
    "    print(\"Titles: \" + \", \".join(title_list))\n",
    "\n",
    "print_file_info(output_file)\n",
    "\n",
    "\n"
   ]
  }
 ],
 "metadata": {
  "kernelspec": {
   "display_name": "Python 3",
   "language": "python",
   "name": "python3"
  },
  "language_info": {
   "codemirror_mode": {
    "name": "ipython",
    "version": 3
   },
   "file_extension": ".py",
   "mimetype": "text/x-python",
   "name": "python",
   "nbconvert_exporter": "python",
   "pygments_lexer": "ipython3",
   "version": "3.11.4"
  },
  "orig_nbformat": 4
 },
 "nbformat": 4,
 "nbformat_minor": 2
}
